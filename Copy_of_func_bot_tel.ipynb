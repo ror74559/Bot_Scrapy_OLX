{
  "nbformat": 4,
  "nbformat_minor": 0,
  "metadata": {
    "colab": {
      "provenance": [],
      "authorship_tag": "ABX9TyOcyMNkHqcmWmkxwBwgbvuu",
      "include_colab_link": true
    },
    "kernelspec": {
      "name": "python3",
      "display_name": "Python 3"
    },
    "language_info": {
      "name": "python"
    }
  },
  "cells": [
    {
      "cell_type": "markdown",
      "metadata": {
        "id": "view-in-github",
        "colab_type": "text"
      },
      "source": [
        "<a href=\"https://colab.research.google.com/github/ror74559/Bot_Scrapy_OLX/blob/main/Copy_of_func_bot_tel.ipynb\" target=\"_parent\"><img src=\"https://colab.research.google.com/assets/colab-badge.svg\" alt=\"Open In Colab\"/></a>"
      ]
    },
    {
      "cell_type": "code",
      "execution_count": null,
      "metadata": {
        "id": "bTqjI18R9QVB"
      },
      "outputs": [],
      "source": [
        "import requests"
      ]
    },
    {
      "cell_type": "code",
      "source": [
        "# vídeo para configurar bot para obter o token: https://www.youtube.com/watch?v=6xfUG8bghCw\n",
        "# vídeo para colocar bot no grupo e obter chat id: https://www.youtube.com/watch?v=UCJA6v4ilvs\n",
        "TOKEN = ''\n",
        "CHAT_ID = ''"
      ],
      "metadata": {
        "id": "9LHICrziE5LY"
      },
      "execution_count": null,
      "outputs": []
    },
    {
      "cell_type": "code",
      "source": [
        "def enviar_mensagem(msg):\n",
        "  url = f'https://api.telegram.org/bot{TOKEN}/sendMessage'\n",
        "  params = {'chat_id': f'{CHAT_ID}',\n",
        "              'text': f'{msg}',\n",
        "              'parse_mode': 'Markdown'}\n",
        "  response = requests.post(url,params=params).json()\n",
        "  return response['result']['message_id']"
      ],
      "metadata": {
        "id": "ENYIi2lS5B3a"
      },
      "execution_count": null,
      "outputs": []
    },
    {
      "cell_type": "code",
      "source": [
        "msg_id = enviar_mensagem('Se inscreva no canal')"
      ],
      "metadata": {
        "id": "Z9yUUa305HN9"
      },
      "execution_count": null,
      "outputs": []
    },
    {
      "cell_type": "code",
      "source": [
        "print(msg_id)"
      ],
      "metadata": {
        "colab": {
          "base_uri": "https://localhost:8080/"
        },
        "id": "Lreme0So5HEL",
        "outputId": "2a9bbf96-1b23-4cf2-caa8-e2a605601f92"
      },
      "execution_count": null,
      "outputs": [
        {
          "output_type": "stream",
          "name": "stdout",
          "text": [
            "204\n"
          ]
        }
      ]
    },
    {
      "cell_type": "code",
      "source": [
        "def deletar_mensagem(msg_id):\n",
        "  url = f'https://api.telegram.org/bot{TOKEN}/deleteMessage'\n",
        "\n",
        "  params = {\n",
        "      'chat_id': CHAT_ID,\n",
        "      'message_id': msg_id\n",
        "  }\n",
        "  requests.post(url, params=params)"
      ],
      "metadata": {
        "id": "GyYG2icP5OBG"
      },
      "execution_count": null,
      "outputs": []
    },
    {
      "cell_type": "code",
      "source": [
        "def editar_mensagem(nova_msg,msg_id):\n",
        "  url = f'https://api.telegram.org/bot{TOKEN}/editMessageText'\n",
        "\n",
        "  params = {\n",
        "    'chat_id': CHAT_ID,\n",
        "    'message_id': msg_id,\n",
        "    'text': nova_msg,\n",
        "\n",
        "  }\n",
        "  response = requests.post(url, params=params)\n",
        "  print(response.json())"
      ],
      "metadata": {
        "id": "7bEVZBSc5Uqc"
      },
      "execution_count": null,
      "outputs": []
    },
    {
      "cell_type": "code",
      "source": [
        "def enviar_imagem(arquivo,legenda=''):\n",
        "  url = f'https://api.telegram.org/bot{TOKEN}/sendPhoto'\n",
        "  img = open(f'{arquivo}', 'rb')\n",
        "  params = {'chat_id': f'{CHAT_ID}',\n",
        "              'caption': f'{legenda}',\n",
        "              'parse_mode': 'Markdown'}\n",
        "  files = {'photo':img}\n",
        "  response = requests.post(url,\n",
        "                            params=params,\n",
        "                            files=files)\n",
        "  msg_id = response.json()['result']['message_id']\n",
        "  print(response.json())\n"
      ],
      "metadata": {
        "id": "q1lqJ-qj5jDz"
      },
      "execution_count": null,
      "outputs": []
    },
    {
      "cell_type": "code",
      "source": [
        "def enviar_video(arquivo):\n",
        "  url = f'https://api.telegram.org/bot{TOKEN}/sendVideo'\n",
        "  video = open(f'{arquivo}', 'rb')\n",
        "  files = {'video': video}\n",
        "  params = {\n",
        "          'chat_id': CHAT_ID,\n",
        "        }\n",
        "  response = requests.post(url, params=params, files=files)\n",
        "  print(response.json())"
      ],
      "metadata": {
        "id": "83TZTBSm5srD"
      },
      "execution_count": null,
      "outputs": []
    },
    {
      "cell_type": "code",
      "source": [
        "def enviar_audio(arquivo):\n",
        "  url = f'https://api.telegram.org/bot{TOKEN}/sendAudio'\n",
        "  audio = open(f'{arquivo}', 'rb')\n",
        "  files={'audio':audio}\n",
        "  params = {\n",
        "        'chat_id': CHAT_ID,\n",
        "  }\n",
        "  response = requests.post(url,params=params, files=files)\n",
        "  print(response.json())"
      ],
      "metadata": {
        "id": "r1FM_ADC5xnL"
      },
      "execution_count": null,
      "outputs": []
    },
    {
      "cell_type": "code",
      "source": [
        "def enviar_gif(arquivo):\n",
        "  url = f'https://api.telegram.org/bot{TOKEN}/sendDocument'\n",
        "  gif = open(f'{arquivo}', 'rb')\n",
        "  files={'document':gif}\n",
        "  params = {\n",
        "        'chat_id': CHAT_ID,\n",
        "  }\n",
        "  response = requests.post(url,params=params, files=files)\n",
        "  print(response.json())"
      ],
      "metadata": {
        "id": "BlJ6KbW351i9"
      },
      "execution_count": null,
      "outputs": []
    }
  ]
}